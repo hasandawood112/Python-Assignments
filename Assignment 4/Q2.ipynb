{
 "cells": [
  {
   "cell_type": "code",
   "execution_count": 28,
   "metadata": {},
   "outputs": [
    {
     "name": "stdout",
     "output_type": "stream",
     "text": [
      "Karachi is in Pakistan\n",
      "Its population is 22123000\n",
      "Intresting fact Karachi is that It is the Sixth largest city in the world by city population\n",
      "\n",
      "Chicago is in Usa\n",
      "Its population is 9156000\n",
      "Intresting fact Chicago is that Chicago rests on 234 square miles of land\n",
      "\n",
      " Ankara is in Turkey\n",
      "Its population is 4538000\n",
      "Intresting fact  Ankara is that Ankara is the capital city of the country since the independence declaration in 1923\n",
      "\n"
     ]
    }
   ],
   "source": [
    "cities = {\n",
    "    \"Karachi\" : {\n",
    "        \"country\" : \"Pakistan\",\n",
    "        \"population\" : 22123000,\n",
    "        \"fact\" : \"It is the Sixth largest city in the world by city population\"\n",
    "    },\n",
    "    \"Chicago\" : {\n",
    "        \"country\" : \"USA\",\n",
    "        \"population\" :  9156000,\n",
    "        \"fact\" : \"Chicago rests on 234 square miles of land\"\n",
    "    },\n",
    "    \" Ankara\" : {\n",
    "        \"country\" : \"Turkey\",\n",
    "        \"population\" :   4538000,\n",
    "        \"fact\" : \"Ankara is the capital city of the country since the independence declaration in 1923\"\n",
    "    }\n",
    "}\n",
    "\n",
    "for city, cityInfo in cities.items():\n",
    "    country = cityInfo[\"country\"].title()\n",
    "    population = cityInfo[\"population\"]\n",
    "    fact = cityInfo[\"fact\"]\n",
    "    \n",
    "    print(city.title() + \" is in \" + country)\n",
    "    print(\"Its population is \" + str(population))\n",
    "    print(\"Intresting fact \" + city.title() + \" is that \" + fact + \"\\n\")"
   ]
  },
  {
   "cell_type": "code",
   "execution_count": null,
   "metadata": {},
   "outputs": [],
   "source": []
  },
  {
   "cell_type": "code",
   "execution_count": null,
   "metadata": {},
   "outputs": [],
   "source": []
  }
 ],
 "metadata": {
  "kernelspec": {
   "display_name": "Python 3",
   "language": "python",
   "name": "python3"
  },
  "language_info": {
   "codemirror_mode": {
    "name": "ipython",
    "version": 3
   },
   "file_extension": ".py",
   "mimetype": "text/x-python",
   "name": "python",
   "nbconvert_exporter": "python",
   "pygments_lexer": "ipython3",
   "version": "3.7.4"
  }
 },
 "nbformat": 4,
 "nbformat_minor": 4
}
