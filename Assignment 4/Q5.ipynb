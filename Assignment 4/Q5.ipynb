{
 "cells": [
  {
   "cell_type": "code",
   "execution_count": 1,
   "metadata": {},
   "outputs": [
    {
     "name": "stdout",
     "output_type": "stream",
     "text": [
      "Hello! Welcome to my Guess Game. \n",
      "Im think of a number between 1 - 20.\n"
     ]
    },
    {
     "name": "stdin",
     "output_type": "stream",
     "text": [
      "Take a Guess 65\n"
     ]
    },
    {
     "name": "stdout",
     "output_type": "stream",
     "text": [
      "Your guess is too High!\n"
     ]
    },
    {
     "name": "stdin",
     "output_type": "stream",
     "text": [
      "Take a Guess 5\n"
     ]
    },
    {
     "name": "stdout",
     "output_type": "stream",
     "text": [
      "Your guess is too Low!\n"
     ]
    },
    {
     "name": "stdin",
     "output_type": "stream",
     "text": [
      "Take a Guess 15\n"
     ]
    },
    {
     "name": "stdout",
     "output_type": "stream",
     "text": [
      "Your guess is too Low!\n",
      "Nope! the number was 28\n"
     ]
    }
   ],
   "source": [
    "import random\n",
    "\n",
    "chance = 0\n",
    "\n",
    "num = random.randint(1, 30)\n",
    "\n",
    "print(\"Hello! Welcome to my Guess Game. \\nIm think of a number between 1 - 20.\")\n",
    "\n",
    "while chance < 3:\n",
    "    guess = int(input(\"Take a Guess\"))\n",
    "    chance = chance + 1\n",
    "    \n",
    "    if guess > num:\n",
    "        print(\"Your guess is too High!\")\n",
    "    elif guess < num:\n",
    "        print(\"Your guess is too Low!\")\n",
    "    else:\n",
    "        break\n",
    "        \n",
    "if guess == num:\n",
    "    print(\"Good Job! you guessed a number in \" + str(chance) + \" guesses.\")\n",
    "else:\n",
    "    print(\"Nope! the number was \" + str(num))"
   ]
  },
  {
   "cell_type": "code",
   "execution_count": null,
   "metadata": {},
   "outputs": [],
   "source": []
  }
 ],
 "metadata": {
  "kernelspec": {
   "display_name": "Python 3",
   "language": "python",
   "name": "python3"
  },
  "language_info": {
   "codemirror_mode": {
    "name": "ipython",
    "version": 3
   },
   "file_extension": ".py",
   "mimetype": "text/x-python",
   "name": "python",
   "nbconvert_exporter": "python",
   "pygments_lexer": "ipython3",
   "version": "3.7.4"
  }
 },
 "nbformat": 4,
 "nbformat_minor": 4
}
