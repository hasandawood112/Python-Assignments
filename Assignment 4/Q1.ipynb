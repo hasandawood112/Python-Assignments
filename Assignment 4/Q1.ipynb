{
 "cells": [
  {
   "cell_type": "code",
   "execution_count": 16,
   "metadata": {},
   "outputs": [
    {
     "name": "stdout",
     "output_type": "stream",
     "text": [
      "Initial Dictonary\n",
      "{'first_name': 'Hasan', 'last_name': 'Dawood', 'age': 20, 'city': 'Karachi'}\n",
      "\n",
      "Updated Dictonary\n",
      "{'first_name': 'Hasan', 'last_name': 'Dawood', 'age': 20, 'city': 'Karachi', 'qualification': 'Intermediate'}\n",
      "\n",
      "Final Dictionary\n",
      "Name : Hasan Dawood\n",
      "Age : 20\n",
      "City : Karachi\n"
     ]
    }
   ],
   "source": [
    "person = {\n",
    "    \"first_name\" : \"Hasan\",\n",
    "    \"last_name\" : \"Dawood\",\n",
    "    \"age\" : 20,\n",
    "    \"city\" : \"Karachi\"\n",
    "}\n",
    "print(\"Initial Dictonary\")\n",
    "print(person)\n",
    "\n",
    "qual = {\"qualification\" : \"Intermediate\"}\n",
    "\n",
    "person.update(qual)\n",
    "\n",
    "print(\"\\nUpdated Dictonary\")\n",
    "print(person)\n",
    "\n",
    "del person[\"qualification\"]\n",
    "\n",
    "print(\"\\nFinal Dictionary\")\n",
    "print(\"Name : \" + person[\"first_name\"] + \" \" + person[\"last_name\"])\n",
    "print(\"Age : \" + str(person[\"age\"]))\n",
    "print(\"City : \" + person[\"city\"])"
   ]
  }
 ],
 "metadata": {
  "kernelspec": {
   "display_name": "Python 3",
   "language": "python",
   "name": "python3"
  },
  "language_info": {
   "codemirror_mode": {
    "name": "ipython",
    "version": 3
   },
   "file_extension": ".py",
   "mimetype": "text/x-python",
   "name": "python",
   "nbconvert_exporter": "python",
   "pygments_lexer": "ipython3",
   "version": "3.7.4"
  }
 },
 "nbformat": 4,
 "nbformat_minor": 4
}
