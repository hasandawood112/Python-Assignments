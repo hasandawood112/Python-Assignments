{
 "cells": [
  {
   "cell_type": "code",
   "execution_count": 1,
   "metadata": {},
   "outputs": [
    {
     "name": "stdin",
     "output_type": "stream",
     "text": [
      "\n",
      "Enter your age: \n",
      "Enter 0 to quit :  5\n"
     ]
    },
    {
     "name": "stdout",
     "output_type": "stream",
     "text": [
      "Ticket price is $10\n"
     ]
    },
    {
     "name": "stdin",
     "output_type": "stream",
     "text": [
      "\n",
      "Enter your age: \n",
      "Enter 0 to quit :  2\n"
     ]
    },
    {
     "name": "stdout",
     "output_type": "stream",
     "text": [
      "Ticket is Free\n"
     ]
    },
    {
     "name": "stdin",
     "output_type": "stream",
     "text": [
      "\n",
      "Enter your age: \n",
      "Enter 0 to quit :  15\n"
     ]
    },
    {
     "name": "stdout",
     "output_type": "stream",
     "text": [
      "Ticket price is $15\n"
     ]
    },
    {
     "name": "stdin",
     "output_type": "stream",
     "text": [
      "\n",
      "Enter your age: \n",
      "Enter 0 to quit :  0\n"
     ]
    }
   ],
   "source": [
    "prompt = \"\\nEnter your age: \\nEnter 0 to quit : \"\n",
    "\n",
    "while True :\n",
    "    age = int(input(prompt))\n",
    "    if age == 0:\n",
    "        break;\n",
    "    \n",
    "    if age > 12:\n",
    "        print(\"Ticket price is $15\")\n",
    "    elif age >= 3 and age <= 12:\n",
    "        print(\"Ticket price is $10\")\n",
    "    else:\n",
    "        print(\"Ticket is Free\")\n"
   ]
  }
 ],
 "metadata": {
  "kernelspec": {
   "display_name": "Python 3",
   "language": "python",
   "name": "python3"
  },
  "language_info": {
   "codemirror_mode": {
    "name": "ipython",
    "version": 3
   },
   "file_extension": ".py",
   "mimetype": "text/x-python",
   "name": "python",
   "nbconvert_exporter": "python",
   "pygments_lexer": "ipython3",
   "version": "3.7.4"
  }
 },
 "nbformat": 4,
 "nbformat_minor": 4
}
