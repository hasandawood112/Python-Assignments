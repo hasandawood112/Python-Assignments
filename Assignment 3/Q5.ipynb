{
 "cells": [
  {
   "cell_type": "code",
   "execution_count": 8,
   "metadata": {},
   "outputs": [
    {
     "name": "stdout",
     "output_type": "stream",
     "text": [
      "Duplicate Hasan\n",
      "Duplicate 54\n",
      "Duplicate 9\n",
      "Duplicate 54\n",
      "Duplicate Hasan\n",
      "Duplicate 10\n",
      "Duplicate 10\n",
      "Duplicate 9\n"
     ]
    }
   ],
   "source": [
    "list1 = [56, \"Hasan\", 54, 9, \"Dawood\", 54, \"Hasan\", 10, 10, 60, 9]\n",
    "\n",
    "for duplicate in list1:\n",
    "    if  list1.count(duplicate) > 1:\n",
    "         print(f\"Duplicate {duplicate}\")\n"
   ]
  },
  {
   "cell_type": "code",
   "execution_count": null,
   "metadata": {},
   "outputs": [],
   "source": []
  },
  {
   "cell_type": "code",
   "execution_count": null,
   "metadata": {},
   "outputs": [],
   "source": []
  }
 ],
 "metadata": {
  "kernelspec": {
   "display_name": "Python 3",
   "language": "python",
   "name": "python3"
  },
  "language_info": {
   "codemirror_mode": {
    "name": "ipython",
    "version": 3
   },
   "file_extension": ".py",
   "mimetype": "text/x-python",
   "name": "python",
   "nbconvert_exporter": "python",
   "pygments_lexer": "ipython3",
   "version": "3.7.4"
  }
 },
 "nbformat": 4,
 "nbformat_minor": 2
}
