{
 "cells": [
  {
   "cell_type": "code",
   "execution_count": null,
   "metadata": {},
   "outputs": [],
   "source": [
    "def add(a, b):\n",
    "    return a + b\n",
    "\n",
    "def sub(a, b):\n",
    "    return a - b\n",
    "\n",
    "def multi(a, b):\n",
    "    return a * b\n",
    "\n",
    "def divide(a, b):\n",
    "    return a / b\n",
    "\n",
    "num1 = float(input(\"Enter the 1st number : \"))\n",
    "oper = input(\"Select Operator : \\n'+' for Add \\n'-' for sub \\n'*' for Multiply \\n'/' for divide \\n'^' for Power \")\n",
    "num2 = float(input(\"Enter the 2nd number : \"))\n",
    "\n",
    "if(oper == '+'):\n",
    "    ans = add(num1, num2)\n",
    "    print(num1, \" + \", num2, \" = \", ans)\n",
    "elif(oper == '-'):\n",
    "    ans = sub(num1, num2)\n",
    "    print(num1, \" - \", num2, \" = \", ans)\n",
    "elif(oper == '*'):\n",
    "    ans = multi(num1, num2)\n",
    "    print(num1, \" * \", num2, \" = \", ans)\n",
    "elif(oper == '/'):\n",
    "    ans = divide(num1, num2)\n",
    "    print(num1, \" / \", num2, \" = \", ans)\n",
    "elif(oper == '^'):\n",
    "    ans = pow(num1, num2)\n",
    "    print(num1,\"^\",num2, \"=\", ans)\n",
    "else:\n",
    "    print(\"Invalid Input!\")"
   ]
  }
 ],
 "metadata": {
  "kernelspec": {
   "display_name": "Python 3",
   "language": "python",
   "name": "python3"
  },
  "language_info": {
   "codemirror_mode": {
    "name": "ipython",
    "version": 3
   },
   "file_extension": ".py",
   "mimetype": "text/x-python",
   "name": "python",
   "nbconvert_exporter": "python",
   "pygments_lexer": "ipython3",
   "version": "3.7.4"
  }
 },
 "nbformat": 4,
 "nbformat_minor": 2
}
