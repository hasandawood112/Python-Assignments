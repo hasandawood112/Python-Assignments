{
 "cells": [
  {
   "cell_type": "code",
   "execution_count": 1,
   "metadata": {},
   "outputs": [
    {
     "name": "stdout",
     "output_type": "stream",
     "text": [
      "Enter the number of elements : 10\n",
      "Enter element  1\n",
      "10\n",
      "Enter element  2\n",
      "20\n",
      "Enter element  3\n",
      "30\n",
      "Enter element  4\n",
      "40\n",
      "Enter element  5\n",
      "50\n",
      "Enter element  6\n",
      "60\n",
      "Enter element  7\n",
      "70\n",
      "Enter element  8\n",
      "80\n",
      "Enter element  9\n",
      "90\n",
      "Enter element  10\n",
      "100\n",
      "Sum of elements in given list is : 550\n"
     ]
    }
   ],
   "source": [
    "list1 = []\n",
    "num = int(input('Enter the number of elements : '))\n",
    "for n in range(num):\n",
    "    print(\"Enter element \", n+1)\n",
    "    element = int(input())\n",
    "    list1.append(element)\n",
    "print(\"Sum of elements in given list is :\", sum(list1))"
   ]
  },
  {
   "cell_type": "code",
   "execution_count": null,
   "metadata": {},
   "outputs": [],
   "source": []
  }
 ],
 "metadata": {
  "kernelspec": {
   "display_name": "Python 3",
   "language": "python",
   "name": "python3"
  },
  "language_info": {
   "codemirror_mode": {
    "name": "ipython",
    "version": 3
   },
   "file_extension": ".py",
   "mimetype": "text/x-python",
   "name": "python",
   "nbconvert_exporter": "python",
   "pygments_lexer": "ipython3",
   "version": "3.7.4"
  }
 },
 "nbformat": 4,
 "nbformat_minor": 2
}
