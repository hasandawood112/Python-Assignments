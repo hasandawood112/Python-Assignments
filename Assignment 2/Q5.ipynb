{
 "cells": [
  {
   "cell_type": "code",
   "execution_count": 4,
   "metadata": {},
   "outputs": [
    {
     "name": "stdout",
     "output_type": "stream",
     "text": [
      "Enter the number of elements : 5\n",
      "Enter element  1\n",
      "65\n",
      "Enter element  2\n",
      "45\n",
      "Enter element  3\n",
      "98\n",
      "Enter element  4\n",
      "15\n",
      "Enter element  5\n",
      "32\n",
      "Maximum number in List is :  98 \n",
      "Minimum number in List is :  15\n"
     ]
    }
   ],
   "source": [
    "list1 = []\n",
    "num = int(input('Enter the number of elements : '))\n",
    "for n in range(num):\n",
    "    print(\"Enter element \", n+1)\n",
    "    element = int(input())\n",
    "    list1.append(element)\n",
    "print(\"Maximum number in List is : \", max(list1), \"\\nMinimum number in List is : \", min(list1))"
   ]
  },
  {
   "cell_type": "code",
   "execution_count": null,
   "metadata": {},
   "outputs": [],
   "source": []
  }
 ],
 "metadata": {
  "kernelspec": {
   "display_name": "Python 3",
   "language": "python",
   "name": "python3"
  },
  "language_info": {
   "codemirror_mode": {
    "name": "ipython",
    "version": 3
   },
   "file_extension": ".py",
   "mimetype": "text/x-python",
   "name": "python",
   "nbconvert_exporter": "python",
   "pygments_lexer": "ipython3",
   "version": "3.7.4"
  }
 },
 "nbformat": 4,
 "nbformat_minor": 2
}
