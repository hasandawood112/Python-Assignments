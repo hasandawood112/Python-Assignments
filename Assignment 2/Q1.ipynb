{
 "cells": [
  {
   "cell_type": "code",
   "execution_count": 4,
   "metadata": {},
   "outputs": [
    {
     "name": "stdout",
     "output_type": "stream",
     "text": [
      "Enter English Marks : 50\n",
      "Enter Urdu Marks : 50\n",
      "Enter Maths Marks : 50\n",
      "Enter Chemistry Marks : 50\n",
      "Enter Physics Marks : 50\n",
      "Enter Islamiat Marks : 50\n",
      "\n",
      "\t\t Marksheet\n",
      "\n",
      "\n",
      " English :  50.0\n",
      " urdu :  50.0\n",
      " Maths :  50.0\n",
      " Physics :  50.0\n",
      " Chemistry :  50.0\n",
      " Islamiat :  50.0\n",
      "\n",
      " Marks Obtained : 300.0\t\t Percentage :  50.0\n",
      " Grade : D\n"
     ]
    }
   ],
   "source": [
    "eng = float(input(\"Enter English Marks : \"))\n",
    "urdu = float(input(\"Enter Urdu Marks : \"))\n",
    "math = float(input(\"Enter Maths Marks : \"))\n",
    "chem = float(input(\"Enter Chemistry Marks : \"))\n",
    "phy = float(input(\"Enter Physics Marks : \"))\n",
    "isl = float(input(\"Enter Islamiat Marks : \"))\n",
    "\n",
    "total = float(eng+urdu+math+chem+phy+isl)\n",
    "per = float((total/600)*100)\n",
    "\n",
    "print(\"\\n\\t\\t Marksheet\")\n",
    "print(\"\\n\")\n",
    "print(\" English : \", eng)\n",
    "print(\" urdu : \", urdu)\n",
    "print(\" Maths : \", math)\n",
    "print(\" Physics : \", phy)\n",
    "print(\" Chemistry : \", chem)\n",
    "print(\" Islamiat : \", isl)\n",
    "print(\"\\n Marks Obtained : \" + str(total) + \"\\t\\t Percentage : \", per)\n",
    "\n",
    "if per <= 100 and per >= 90:\n",
    "    print(\" Grade : A+\")\n",
    "elif per <= 90 and per >= 80:\n",
    "    print(\" Grade : A\")\n",
    "elif per <= 80 and per >= 70:\n",
    "    print(\" Grade : B\")\n",
    "elif per <= 70 and per >= 60:\n",
    "    print(\" Grade : C\")\n",
    "elif per <= 60 and per >= 50:\n",
    "    print(\" Grade : D\")\n",
    "else:\n",
    "    print(\" Grade : F\")"
   ]
  }
 ],
 "metadata": {
  "kernelspec": {
   "display_name": "Python 3",
   "language": "python",
   "name": "python3"
  },
  "language_info": {
   "codemirror_mode": {
    "name": "ipython",
    "version": 3
   },
   "file_extension": ".py",
   "mimetype": "text/x-python",
   "name": "python",
   "nbconvert_exporter": "python",
   "pygments_lexer": "ipython3",
   "version": "3.7.4"
  }
 },
 "nbformat": 4,
 "nbformat_minor": 2
}
